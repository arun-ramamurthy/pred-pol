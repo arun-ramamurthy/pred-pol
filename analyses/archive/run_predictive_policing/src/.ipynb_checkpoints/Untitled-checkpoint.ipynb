{
 "cells": [
  {
   "cell_type": "code",
   "execution_count": 1,
   "metadata": {
    "collapsed": false
   },
   "outputs": [],
   "source": [
    "%load_ext autoreload\n",
    "%autoreload 2\n",
    "import pandas as pd\n",
    "import numpy as np\n",
    "import numpy as np\n",
    "import matplotlib.pyplot as plt\n",
    "import scipy.stats as dist\n",
    "import random\n",
    "import array\n",
    "import pylab\n",
    "import pickle\n",
    "import random\n",
    "import pandas as pd\n",
    "import datetime\n",
    "import scipy\n",
    "import copy\n",
    "import sys\n",
    "import predpol as pp\n",
    "import sys\n",
    "assert sys.version_info.major == 3\n",
    "import argparse"
   ]
  },
  {
   "cell_type": "code",
   "execution_count": 60,
   "metadata": {
    "collapsed": false
   },
   "outputs": [],
   "source": [
    "start = pd.datetime(2012,1,1)\n",
    "dates = [start + pd.DateOffset(j*3) for j in range(300)]\n"
   ]
  },
  {
   "cell_type": "code",
   "execution_count": 61,
   "metadata": {
    "collapsed": false
   },
   "outputs": [
    {
     "data": {
      "text/plain": [
       "Timestamp('2020-03-16 00:00:00')"
      ]
     },
     "execution_count": 61,
     "metadata": {},
     "output_type": "execute_result"
    }
   ],
   "source": [
    "data = dict()\n",
    "data[2] = dates\n",
    "data[1] = dates\n",
    "\n",
    "max(data[1])"
   ]
  },
  {
   "cell_type": "code",
   "execution_count": 62,
   "metadata": {
    "collapsed": false
   },
   "outputs": [
    {
     "data": {
      "text/plain": [
       "2998"
      ]
     },
     "execution_count": 62,
     "metadata": {},
     "output_type": "execute_result"
    }
   ],
   "source": [
    "T = (max(dates) - min(dates)).days + 1\n",
    "T"
   ]
  },
  {
   "cell_type": "code",
   "execution_count": 63,
   "metadata": {
    "collapsed": false
   },
   "outputs": [
    {
     "ename": "KeyboardInterrupt",
     "evalue": "",
     "output_type": "error",
     "traceback": [
      "\u001b[0;31m---------------------------------------------------------------------------\u001b[0m",
      "\u001b[0;31mKeyboardInterrupt\u001b[0m                         Traceback (most recent call last)",
      "\u001b[0;32m<ipython-input-63-b0c5d3f3eb16>\u001b[0m in \u001b[0;36m<module>\u001b[0;34m()\u001b[0m\n\u001b[0;32m----> 1\u001b[0;31m \u001b[0mrates\u001b[0m\u001b[0;34m,\u001b[0m \u001b[0mkeys\u001b[0m\u001b[0;34m,\u001b[0m \u001b[0momega\u001b[0m\u001b[0;34m,\u001b[0m \u001b[0mtheta\u001b[0m \u001b[0;34m=\u001b[0m \u001b[0mpp\u001b[0m\u001b[0;34m.\u001b[0m\u001b[0mrunEM\u001b[0m\u001b[0;34m(\u001b[0m\u001b[0mdata\u001b[0m\u001b[0;34m,\u001b[0m \u001b[0mT\u001b[0m\u001b[0;34m,\u001b[0m \u001b[0mmax\u001b[0m\u001b[0;34m(\u001b[0m\u001b[0mdata\u001b[0m\u001b[0;34m[\u001b[0m\u001b[0;36m1\u001b[0m\u001b[0;34m]\u001b[0m\u001b[0;34m)\u001b[0m \u001b[0;34m+\u001b[0m \u001b[0mpd\u001b[0m\u001b[0;34m.\u001b[0m\u001b[0mDateOffset\u001b[0m\u001b[0;34m(\u001b[0m\u001b[0;36m1\u001b[0m\u001b[0;34m)\u001b[0m\u001b[0;34m)\u001b[0m\u001b[0;34m\u001b[0m\u001b[0m\n\u001b[0m",
      "\u001b[0;32m/Users/kristianlum/git/policing/simulation/run-predpol/src/predpol.py\u001b[0m in \u001b[0;36mrunEM\u001b[0;34m(data, T, pred_date, k, theta_init, omega_init, mu_init, tol1, tol2, tol3)\u001b[0m\n\u001b[1;32m    104\u001b[0m         \u001b[0mtheta_last\u001b[0m \u001b[0;34m=\u001b[0m \u001b[0mtheta\u001b[0m\u001b[0;34m\u001b[0m\u001b[0m\n\u001b[1;32m    105\u001b[0m         \u001b[0mmu_last\u001b[0m \u001b[0;34m=\u001b[0m \u001b[0mcopy\u001b[0m\u001b[0;34m.\u001b[0m\u001b[0mdeepcopy\u001b[0m\u001b[0;34m(\u001b[0m\u001b[0mmu\u001b[0m\u001b[0;34m)\u001b[0m\u001b[0;34m\u001b[0m\u001b[0m\n\u001b[0;32m--> 106\u001b[0;31m         \u001b[0mpij\u001b[0m\u001b[0;34m,\u001b[0m \u001b[0mpj\u001b[0m \u001b[0;34m=\u001b[0m \u001b[0mestep\u001b[0m\u001b[0;34m(\u001b[0m\u001b[0mdata\u001b[0m\u001b[0;34m,\u001b[0m \u001b[0mmu\u001b[0m\u001b[0;34m,\u001b[0m \u001b[0mtheta\u001b[0m\u001b[0;34m,\u001b[0m \u001b[0momega\u001b[0m\u001b[0;34m,\u001b[0m \u001b[0mtij\u001b[0m\u001b[0;34m)\u001b[0m\u001b[0;34m\u001b[0m\u001b[0m\n\u001b[0m\u001b[1;32m    107\u001b[0m         \u001b[0momega\u001b[0m\u001b[0;34m,\u001b[0m \u001b[0mtheta\u001b[0m\u001b[0;34m,\u001b[0m \u001b[0mmu\u001b[0m \u001b[0;34m=\u001b[0m \u001b[0mmstep\u001b[0m\u001b[0;34m(\u001b[0m\u001b[0mpij\u001b[0m\u001b[0;34m,\u001b[0m \u001b[0mpj\u001b[0m\u001b[0;34m,\u001b[0m \u001b[0mtij\u001b[0m\u001b[0;34m,\u001b[0m \u001b[0mdata\u001b[0m\u001b[0;34m,\u001b[0m \u001b[0mT\u001b[0m\u001b[0;34m)\u001b[0m\u001b[0;34m\u001b[0m\u001b[0m\n\u001b[1;32m    108\u001b[0m \u001b[0;34m\u001b[0m\u001b[0m\n",
      "\u001b[0;32m/Users/kristianlum/git/policing/simulation/run-predpol/src/predpol.py\u001b[0m in \u001b[0;36mestep\u001b[0;34m(data, mu, theta, omega, tij)\u001b[0m\n\u001b[1;32m     57\u001b[0m     \u001b[0;32massert\u001b[0m \u001b[0mdata\u001b[0m\u001b[0;34m.\u001b[0m\u001b[0mkeys\u001b[0m\u001b[0;34m(\u001b[0m\u001b[0;34m)\u001b[0m \u001b[0;34m==\u001b[0m \u001b[0mtij\u001b[0m\u001b[0;34m.\u001b[0m\u001b[0mkeys\u001b[0m\u001b[0;34m(\u001b[0m\u001b[0;34m)\u001b[0m\u001b[0;34m\u001b[0m\u001b[0m\n\u001b[1;32m     58\u001b[0m     \u001b[0mpj\u001b[0m \u001b[0;34m=\u001b[0m \u001b[0mdict\u001b[0m\u001b[0;34m(\u001b[0m\u001b[0;34m)\u001b[0m\u001b[0;34m\u001b[0m\u001b[0m\n\u001b[0;32m---> 59\u001b[0;31m     \u001b[0mpij\u001b[0m \u001b[0;34m=\u001b[0m \u001b[0mcalc_pij\u001b[0m\u001b[0;34m(\u001b[0m\u001b[0mtij\u001b[0m\u001b[0;34m,\u001b[0m \u001b[0mtheta\u001b[0m\u001b[0;34m,\u001b[0m \u001b[0momega\u001b[0m\u001b[0;34m)\u001b[0m\u001b[0;34m\u001b[0m\u001b[0m\n\u001b[0m\u001b[1;32m     60\u001b[0m     \u001b[0;32mfor\u001b[0m \u001b[0mn\u001b[0m \u001b[0;32min\u001b[0m \u001b[0mdata\u001b[0m\u001b[0;34m:\u001b[0m\u001b[0;34m\u001b[0m\u001b[0m\n\u001b[1;32m     61\u001b[0m         \u001b[0;31m# should possibly append a 1 to the front of this\u001b[0m\u001b[0;34m\u001b[0m\u001b[0;34m\u001b[0m\u001b[0m\n",
      "\u001b[0;32m/Users/kristianlum/git/policing/simulation/run-predpol/src/predpol.py\u001b[0m in \u001b[0;36mcalc_pij\u001b[0;34m(tij, theta, omega)\u001b[0m\n\u001b[1;32m     47\u001b[0m         \u001b[0;32mfor\u001b[0m \u001b[0mi\u001b[0m\u001b[0;34m,\u001b[0m \u001b[0mj\u001b[0m \u001b[0;32min\u001b[0m \u001b[0mlower_tri_ij\u001b[0m\u001b[0;34m(\u001b[0m\u001b[0mtij\u001b[0m\u001b[0;34m[\u001b[0m\u001b[0mn\u001b[0m\u001b[0;34m]\u001b[0m\u001b[0;34m.\u001b[0m\u001b[0mshape\u001b[0m\u001b[0;34m[\u001b[0m\u001b[0;36m0\u001b[0m\u001b[0;34m]\u001b[0m\u001b[0;34m)\u001b[0m\u001b[0;34m:\u001b[0m\u001b[0;34m\u001b[0m\u001b[0m\n\u001b[1;32m     48\u001b[0m             \u001b[0;32mif\u001b[0m \u001b[0mtij\u001b[0m\u001b[0;34m[\u001b[0m\u001b[0mn\u001b[0m\u001b[0;34m]\u001b[0m\u001b[0;34m[\u001b[0m\u001b[0mi\u001b[0m\u001b[0;34m,\u001b[0m \u001b[0mj\u001b[0m\u001b[0;34m]\u001b[0m \u001b[0;34m>\u001b[0m \u001b[0;36m0\u001b[0m\u001b[0;34m:\u001b[0m\u001b[0;34m\u001b[0m\u001b[0m\n\u001b[0;32m---> 49\u001b[0;31m                 \u001b[0me_part\u001b[0m \u001b[0;34m=\u001b[0m \u001b[0mnp\u001b[0m\u001b[0;34m.\u001b[0m\u001b[0mexp\u001b[0m\u001b[0;34m(\u001b[0m\u001b[0;34m-\u001b[0m\u001b[0momega\u001b[0m \u001b[0;34m*\u001b[0m \u001b[0mtij\u001b[0m\u001b[0;34m[\u001b[0m\u001b[0mn\u001b[0m\u001b[0;34m]\u001b[0m\u001b[0;34m[\u001b[0m\u001b[0mi\u001b[0m\u001b[0;34m,\u001b[0m \u001b[0mj\u001b[0m\u001b[0;34m]\u001b[0m\u001b[0;34m)\u001b[0m\u001b[0;34m\u001b[0m\u001b[0m\n\u001b[0m\u001b[1;32m     50\u001b[0m                 \u001b[0mpij\u001b[0m\u001b[0;34m[\u001b[0m\u001b[0mn\u001b[0m\u001b[0;34m]\u001b[0m\u001b[0;34m[\u001b[0m\u001b[0mi\u001b[0m\u001b[0;34m,\u001b[0m \u001b[0mj\u001b[0m\u001b[0;34m]\u001b[0m \u001b[0;34m=\u001b[0m \u001b[0me_part\u001b[0m \u001b[0;34m*\u001b[0m \u001b[0mtheta\u001b[0m \u001b[0;34m*\u001b[0m \u001b[0momega\u001b[0m\u001b[0;34m\u001b[0m\u001b[0m\n\u001b[1;32m     51\u001b[0m     \u001b[0;32mreturn\u001b[0m \u001b[0mpij\u001b[0m\u001b[0;34m\u001b[0m\u001b[0m\n",
      "\u001b[0;31mKeyboardInterrupt\u001b[0m: "
     ]
    }
   ],
   "source": [
    "rates, keys, omega, theta = pp.runEM(data, T, max(data[1]) + pd.DateOffset(1))"
   ]
  },
  {
   "cell_type": "code",
   "execution_count": null,
   "metadata": {
    "collapsed": false
   },
   "outputs": [],
   "source": []
  },
  {
   "cell_type": "code",
   "execution_count": null,
   "metadata": {
    "collapsed": false
   },
   "outputs": [],
   "source": [
    "rates"
   ]
  },
  {
   "cell_type": "code",
   "execution_count": null,
   "metadata": {
    "collapsed": false
   },
   "outputs": [],
   "source": []
  },
  {
   "cell_type": "code",
   "execution_count": 59,
   "metadata": {
    "collapsed": false
   },
   "outputs": [
    {
     "data": {
      "text/plain": [
       "array([Timestamp('2012-01-01 00:00:00'), Timestamp('2012-01-04 00:00:00'),\n",
       "       Timestamp('2012-01-07 00:00:00'), Timestamp('2012-01-10 00:00:00'),\n",
       "       Timestamp('2012-01-13 00:00:00'), Timestamp('2012-01-16 00:00:00'),\n",
       "       Timestamp('2012-01-19 00:00:00'), Timestamp('2012-01-22 00:00:00'),\n",
       "       Timestamp('2012-01-25 00:00:00'), Timestamp('2012-01-28 00:00:00'),\n",
       "       Timestamp('2012-01-31 00:00:00'), Timestamp('2012-02-03 00:00:00'),\n",
       "       Timestamp('2012-02-06 00:00:00'), Timestamp('2012-02-09 00:00:00'),\n",
       "       Timestamp('2012-02-12 00:00:00'), Timestamp('2012-02-15 00:00:00'),\n",
       "       Timestamp('2012-02-18 00:00:00'), Timestamp('2012-02-21 00:00:00'),\n",
       "       Timestamp('2012-02-24 00:00:00'), Timestamp('2012-02-27 00:00:00'),\n",
       "       Timestamp('2012-03-01 00:00:00'), Timestamp('2012-03-04 00:00:00'),\n",
       "       Timestamp('2012-03-07 00:00:00'), Timestamp('2012-03-10 00:00:00'),\n",
       "       Timestamp('2012-03-13 00:00:00'), Timestamp('2012-03-16 00:00:00'),\n",
       "       Timestamp('2012-03-19 00:00:00'), Timestamp('2012-03-22 00:00:00'),\n",
       "       Timestamp('2012-03-25 00:00:00'), Timestamp('2012-03-28 00:00:00'),\n",
       "       Timestamp('2012-03-31 00:00:00'), Timestamp('2012-04-03 00:00:00'),\n",
       "       Timestamp('2012-04-06 00:00:00'), Timestamp('2012-04-09 00:00:00'),\n",
       "       Timestamp('2012-04-12 00:00:00'), Timestamp('2012-04-15 00:00:00'),\n",
       "       Timestamp('2012-04-18 00:00:00'), Timestamp('2012-04-21 00:00:00'),\n",
       "       Timestamp('2012-04-24 00:00:00'), Timestamp('2012-04-27 00:00:00'),\n",
       "       Timestamp('2012-04-30 00:00:00'), Timestamp('2012-05-03 00:00:00'),\n",
       "       Timestamp('2012-05-06 00:00:00'), Timestamp('2012-05-09 00:00:00'),\n",
       "       Timestamp('2012-05-12 00:00:00'), Timestamp('2012-05-15 00:00:00'),\n",
       "       Timestamp('2012-05-18 00:00:00'), Timestamp('2012-05-21 00:00:00'),\n",
       "       Timestamp('2012-05-24 00:00:00'), Timestamp('2012-05-27 00:00:00'),\n",
       "       Timestamp('2012-05-30 00:00:00'), Timestamp('2012-06-02 00:00:00'),\n",
       "       Timestamp('2012-06-05 00:00:00'), Timestamp('2012-06-08 00:00:00'),\n",
       "       Timestamp('2012-06-11 00:00:00'), Timestamp('2012-06-14 00:00:00'),\n",
       "       Timestamp('2012-06-17 00:00:00'), Timestamp('2012-06-20 00:00:00'),\n",
       "       Timestamp('2012-06-23 00:00:00'), Timestamp('2012-06-26 00:00:00'),\n",
       "       Timestamp('2012-06-29 00:00:00'), Timestamp('2012-07-02 00:00:00'),\n",
       "       Timestamp('2012-07-05 00:00:00'), Timestamp('2012-07-08 00:00:00'),\n",
       "       Timestamp('2012-07-11 00:00:00'), Timestamp('2012-07-14 00:00:00'),\n",
       "       Timestamp('2012-07-17 00:00:00'), Timestamp('2012-07-20 00:00:00'),\n",
       "       Timestamp('2012-07-23 00:00:00'), Timestamp('2012-07-26 00:00:00'),\n",
       "       Timestamp('2012-07-29 00:00:00'), Timestamp('2012-08-01 00:00:00'),\n",
       "       Timestamp('2012-08-04 00:00:00'), Timestamp('2012-08-07 00:00:00'),\n",
       "       Timestamp('2012-08-10 00:00:00'), Timestamp('2012-08-13 00:00:00'),\n",
       "       Timestamp('2012-08-16 00:00:00'), Timestamp('2012-08-19 00:00:00'),\n",
       "       Timestamp('2012-08-22 00:00:00'), Timestamp('2012-08-25 00:00:00'),\n",
       "       Timestamp('2012-08-28 00:00:00'), Timestamp('2012-08-31 00:00:00'),\n",
       "       Timestamp('2012-09-03 00:00:00'), Timestamp('2012-09-06 00:00:00'),\n",
       "       Timestamp('2012-09-09 00:00:00'), Timestamp('2012-09-12 00:00:00'),\n",
       "       Timestamp('2012-09-15 00:00:00'), Timestamp('2012-09-18 00:00:00'),\n",
       "       Timestamp('2012-09-21 00:00:00'), Timestamp('2012-09-24 00:00:00'),\n",
       "       Timestamp('2012-09-27 00:00:00'), Timestamp('2012-09-30 00:00:00'),\n",
       "       Timestamp('2012-10-03 00:00:00'), Timestamp('2012-10-06 00:00:00'),\n",
       "       Timestamp('2012-10-09 00:00:00'), Timestamp('2012-10-12 00:00:00'),\n",
       "       Timestamp('2012-10-15 00:00:00'), Timestamp('2012-10-18 00:00:00'),\n",
       "       Timestamp('2012-10-21 00:00:00'), Timestamp('2012-10-24 00:00:00'),\n",
       "       Timestamp('2012-10-25 00:00:00')], dtype=object)"
      ]
     },
     "execution_count": 59,
     "metadata": {},
     "output_type": "execute_result"
    }
   ],
   "source": [
    "data[1]"
   ]
  },
  {
   "cell_type": "code",
   "execution_count": null,
   "metadata": {
    "collapsed": false
   },
   "outputs": [],
   "source": []
  },
  {
   "cell_type": "code",
   "execution_count": null,
   "metadata": {
    "collapsed": false
   },
   "outputs": [],
   "source": []
  },
  {
   "cell_type": "code",
   "execution_count": 28,
   "metadata": {
    "collapsed": false
   },
   "outputs": [],
   "source": [
    "def estep(data, mu, theta, omega, tij):\n",
    "    # t these asserts are fast and document the common structure\n",
    "    assert data.keys() == mu.keys()\n",
    "    assert data.keys() == tij.keys()\n",
    "    pj = dict()\n",
    "    pij = calc_pij(tij, theta, omega)\n",
    "    for n in data:\n",
    "        denom = mu[n] + pij[n].sum(axis=1)\n",
    "        pj[n] = mu[n] / denom\n",
    "        pj[n] = np.append(pj[n], 1) # to account for first observation \n",
    "        pij[n] = pij[n] / denom\n",
    "    return pij, pj"
   ]
  },
  {
   "cell_type": "code",
   "execution_count": 29,
   "metadata": {
    "collapsed": false
   },
   "outputs": [
    {
     "name": "stdout",
     "output_type": "stream",
     "text": [
      "test\n",
      "test\n"
     ]
    }
   ],
   "source": [
    "pij, pj = estep(data, mu, .1, .1,  tij)"
   ]
  },
  {
   "cell_type": "code",
   "execution_count": 30,
   "metadata": {
    "collapsed": false
   },
   "outputs": [
    {
     "data": {
      "text/plain": [
       "{1: array([ 0.99103276,  0.98305635,  0.97594885,  0.96960571,  1.        ]),\n",
       " 2: array([ 1.])}"
      ]
     },
     "execution_count": 30,
     "metadata": {},
     "output_type": "execute_result"
    }
   ],
   "source": [
    "pj"
   ]
  },
  {
   "cell_type": "code",
   "execution_count": null,
   "metadata": {
    "collapsed": true
   },
   "outputs": [],
   "source": []
  }
 ],
 "metadata": {
  "kernelspec": {
   "display_name": "Python 3",
   "language": "python",
   "name": "python3"
  },
  "language_info": {
   "codemirror_mode": {
    "name": "ipython",
    "version": 3
   },
   "file_extension": ".py",
   "mimetype": "text/x-python",
   "name": "python",
   "nbconvert_exporter": "python",
   "pygments_lexer": "ipython3",
   "version": "3.5.1"
  }
 },
 "nbformat": 4,
 "nbformat_minor": 0
}
